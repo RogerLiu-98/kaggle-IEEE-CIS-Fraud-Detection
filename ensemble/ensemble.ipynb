{
 "cells": [
  {
   "cell_type": "code",
   "execution_count": 1,
   "metadata": {},
   "outputs": [],
   "source": [
    "import pandas as pd"
   ]
  },
  {
   "cell_type": "code",
   "execution_count": 4,
   "metadata": {},
   "outputs": [],
   "source": [
    "sub1 = pd.read_csv('../output/sub_xgboost.csv')\n",
    "sub2 = pd.read_csv('../output/ieee_cis_fraud_detection_v5.csv')\n",
    "\n",
    "final_sub=sub1.copy()\n",
    "final_sub['isFraud'] = final_sub['isFraud']*0.6 + sub2['isFraud']*0.4\n",
    "final_sub.to_csv('../output/final_sub_v1.csv', index=False)"
   ]
  },
  {
   "cell_type": "markdown",
   "metadata": {},
   "source": [
    "### 0.5\\*final_sub_v1+0.5\\*9469(kernel)"
   ]
  },
  {
   "cell_type": "code",
   "execution_count": 5,
   "metadata": {},
   "outputs": [],
   "source": [
    "sub1 = pd.read_csv('../output/final_sub_v1.csv')\n",
    "sub2 = pd.read_csv('../output/9469.csv')\n",
    "\n",
    "final_sub=sub1.copy()\n",
    "final_sub['isFraud'] = final_sub['isFraud']*0.5 + sub2['isFraud']*0.5\n",
    "final_sub.to_csv('../output/final_sub_v2.csv', index=False)"
   ]
  },
  {
   "cell_type": "code",
   "execution_count": null,
   "metadata": {},
   "outputs": [],
   "source": []
  }
 ],
 "metadata": {
  "kernelspec": {
   "display_name": "Python 3",
   "language": "python",
   "name": "python3"
  },
  "language_info": {
   "codemirror_mode": {
    "name": "ipython",
    "version": 3
   },
   "file_extension": ".py",
   "mimetype": "text/x-python",
   "name": "python",
   "nbconvert_exporter": "python",
   "pygments_lexer": "ipython3",
   "version": "3.7.1"
  }
 },
 "nbformat": 4,
 "nbformat_minor": 2
}
